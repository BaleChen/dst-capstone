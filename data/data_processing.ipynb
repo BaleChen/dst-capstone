{
 "cells": [
  {
   "cell_type": "code",
   "execution_count": 23,
   "metadata": {},
   "outputs": [],
   "source": [
    "from datasets import load_dataset\n",
    "import json\n",
    "from pprint import pprint\n",
    "import pdb\n",
    "from tqdm import tqdm"
   ]
  },
  {
   "cell_type": "code",
   "execution_count": 3,
   "metadata": {},
   "outputs": [
    {
     "name": "stderr",
     "output_type": "stream",
     "text": [
      "No config specified, defaulting to: multi_woz_v22/v2.2_active_only\n",
      "Found cached dataset multi_woz_v22 (/Users/balechen/.cache/huggingface/datasets/multi_woz_v22/v2.2_active_only/2.2.0/6719c8b21478299411a0c6fdb7137c3ebab2e6425129af831687fb7851c69eb5)\n"
     ]
    },
    {
     "data": {
      "application/vnd.jupyter.widget-view+json": {
       "model_id": "522dfc3372124daf9b028a091bc65696",
       "version_major": 2,
       "version_minor": 0
      },
      "text/plain": [
       "  0%|          | 0/3 [00:00<?, ?it/s]"
      ]
     },
     "metadata": {},
     "output_type": "display_data"
    },
    {
     "data": {
      "text/plain": [
       "DatasetDict({\n",
       "    train: Dataset({\n",
       "        features: ['dialogue_id', 'services', 'turns'],\n",
       "        num_rows: 8437\n",
       "    })\n",
       "    validation: Dataset({\n",
       "        features: ['dialogue_id', 'services', 'turns'],\n",
       "        num_rows: 1000\n",
       "    })\n",
       "    test: Dataset({\n",
       "        features: ['dialogue_id', 'services', 'turns'],\n",
       "        num_rows: 1000\n",
       "    })\n",
       "})"
      ]
     },
     "execution_count": 3,
     "metadata": {},
     "output_type": "execute_result"
    }
   ],
   "source": [
    "ds = load_dataset(\"multi_woz_v22\")\n",
    "ds"
   ]
  },
  {
   "cell_type": "code",
   "execution_count": 29,
   "metadata": {},
   "outputs": [],
   "source": [
    "with open(\"/Users/balechen/Desktop/Academic/2023-Fall/Capstone/multiwoz/data/MultiWOZ_2.2/schema.json\", \"r\") as f:\n",
    "    schema = json.load(f)\n",
    "\n",
    "domain2slot = {}\n",
    "slot2desc = {}\n",
    "slot2space = {}\n",
    "for domain_json in schema:\n",
    "    domain2slot[domain_json[\"service_name\"]] = domain_json[\"slots\"]\n",
    "    for slot in domain_json[\"slots\"]:\n",
    "        slot2desc[slot[\"name\"]] = slot[\"description\"]\n",
    "        slot2space[slot[\"name\"]] = slot[\"possible_values\"] if slot[\"is_categorical\"] else None\n"
   ]
  },
  {
   "cell_type": "code",
   "execution_count": 18,
   "metadata": {},
   "outputs": [
    {
     "name": "stderr",
     "output_type": "stream",
     "text": [
      "Loading cached processed dataset at /Users/balechen/.cache/huggingface/datasets/multi_woz_v22/v2.2_active_only/2.2.0/6719c8b21478299411a0c6fdb7137c3ebab2e6425129af831687fb7851c69eb5/cache-e93de8cac4f8d954.arrow\n"
     ]
    },
    {
     "data": {
      "application/vnd.jupyter.widget-view+json": {
       "model_id": "430d7ed87c814fbf82a56d48b58b2f6d",
       "version_major": 2,
       "version_minor": 0
      },
      "text/plain": [
       "Map:   0%|          | 0/1000 [00:00<?, ? examples/s]"
      ]
     },
     "metadata": {},
     "output_type": "display_data"
    },
    {
     "data": {
      "application/vnd.jupyter.widget-view+json": {
       "model_id": "ade1977aacb4470d9bc4c45fd7b19054",
       "version_major": 2,
       "version_minor": 0
      },
      "text/plain": [
       "Map:   0%|          | 0/1000 [00:00<?, ? examples/s]"
      ]
     },
     "metadata": {},
     "output_type": "display_data"
    }
   ],
   "source": [
    "def process_data(example):\n",
    "    turns = example[\"turns\"][0]\n",
    "    ret = {\n",
    "        \"dialogue_id\": [],\n",
    "        \"turn_id\": [],\n",
    "        \"services\": [],\n",
    "        \"context\": [],\n",
    "        \"domain\": [],\n",
    "        \"slot_name\": [],\n",
    "        \"slot_value\": [],\n",
    "    }\n",
    "\n",
    "    current_context = []\n",
    "    for i in range(len(turns[\"utterance\"])):\n",
    "        utter = turns[\"utterance\"][i]\n",
    "        speaker = turns[\"speaker\"][i]\n",
    "        turn_id = turns[\"turn_id\"][i]\n",
    "        frame = turns[\"frames\"][i]\n",
    "\n",
    "        active_slots = {}\n",
    "        for state_per_domain in frame[\"state\"]:\n",
    "            for slot_name, slot_value in zip(state_per_domain[\"slots_values\"][\"slots_values_name\"], state_per_domain[\"slots_values\"][\"slots_values_list\"]):\n",
    "                active_slots[slot_name] = slot_value\n",
    "\n",
    "        if speaker == 0: # USER\n",
    "            current_context.append(\"[USER]: \"+utter)\n",
    "        \n",
    "            for domain in frame[\"service\"]:\n",
    "                for slot in domain2slot[domain]:\n",
    "                    # Fixed for all slots\n",
    "                    ret[\"dialogue_id\"].append(example[\"dialogue_id\"])\n",
    "                    ret[\"turn_id\"].append(turn_id)\n",
    "                    ret[\"services\"].append(example[\"services\"])\n",
    "                    ret[\"context\"].append(\"\\n\".join(current_context))\n",
    "\n",
    "                    ret[\"domain\"].append(domain)\n",
    "\n",
    "                    ret[\"slot_name\"].append(slot[\"name\"])\n",
    "                    ret[\"slot_value\"].append([\"NONE\"] if slot[\"name\"] not in active_slots.keys() else active_slots[slot[\"name\"]])\n",
    "                    \n",
    "        else:\n",
    "            current_context.append(\"[ASSISTANT]: \"+utter)\n",
    "    return ret\n",
    "\n",
    "\n",
    "processed_ds = ds.map(process_data, batched=True, batch_size=1, remove_columns=ds[\"train\"].column_names)"
   ]
  },
  {
   "cell_type": "code",
   "execution_count": 55,
   "metadata": {},
   "outputs": [
    {
     "data": {
      "application/vnd.jupyter.widget-view+json": {
       "model_id": "29350e4322044938975d548508629e8c",
       "version_major": 2,
       "version_minor": 0
      },
      "text/plain": [
       "Map (num_proc=8):   0%|          | 0/588236 [00:00<?, ? examples/s]"
      ]
     },
     "metadata": {},
     "output_type": "display_data"
    },
    {
     "data": {
      "application/vnd.jupyter.widget-view+json": {
       "model_id": "b7bed155db664c7aaa15d36b4de332a6",
       "version_major": 2,
       "version_minor": 0
      },
      "text/plain": [
       "Map (num_proc=8):   0%|          | 0/75593 [00:00<?, ? examples/s]"
      ]
     },
     "metadata": {},
     "output_type": "display_data"
    },
    {
     "data": {
      "application/vnd.jupyter.widget-view+json": {
       "model_id": "9b6e68de2b13462994d4ca6643223701",
       "version_major": 2,
       "version_minor": 0
      },
      "text/plain": [
       "Map (num_proc=8):   0%|          | 0/76269 [00:00<?, ? examples/s]"
      ]
     },
     "metadata": {},
     "output_type": "display_data"
    }
   ],
   "source": [
    "def convert_to_instruction_following_prompts(examples):\n",
    "    \n",
    "    template_non_categorical = \"\"\"Based on the input dialogue between the user and the assistant, answer \\\"{slot_desc}\\\". If it\\'s not mentioned in the dialogue, please answer NONE. \"\"\"\n",
    "    template_categorical = \"\"\"Based on the input dialogue between the user and the assistant, choose the correct answer for \\\"{slot_desc}\\\" from {slot_space}. If it\\'s not mentioned in the dialogue, please choose NONE. \"\"\"\n",
    "    instructions = []\n",
    "    inputs = []\n",
    "    outputs = []\n",
    "\n",
    "    for i in range(len(examples)):\n",
    "        slot_name = examples[\"slot_name\"][i]\n",
    "        slot_value = examples[\"slot_value\"][i][0]\n",
    "        slot_desc = slot2desc[slot_name]\n",
    "        slot_space = slot2space.get(slot_name, None)\n",
    "        if slot_space is not None:\n",
    "            slot_space = \"[\" + \", \".join(slot_space+[\"NONE\"]) + \"]\"\n",
    "\n",
    "        instructions.append(template_categorical.format(slot_desc=slot_desc, slot_space=slot_space) if slot_space is not None else template_non_categorical.format(slot_desc=slot_desc))\n",
    "        inputs.append(examples[\"context\"][i])\n",
    "        outputs.append(slot_value)\n",
    "\n",
    "    return {\n",
    "        \"instruction\": instructions,\n",
    "        \"input\": inputs,\n",
    "        \"output\": outputs,\n",
    "    }\n",
    "\n",
    "instruction_ds = processed_ds.map(convert_to_instruction_following_prompts, batched=True, batch_size=100, remove_columns=processed_ds[\"train\"].column_names, num_proc=8)"
   ]
  },
  {
   "cell_type": "code",
   "execution_count": 57,
   "metadata": {},
   "outputs": [
    {
     "data": {
      "application/vnd.jupyter.widget-view+json": {
       "model_id": "3d53e9066d834b8c988e80d7a6edebd8",
       "version_major": 2,
       "version_minor": 0
      },
      "text/plain": [
       "Creating json from Arrow format:   0%|          | 0/42 [00:00<?, ?ba/s]"
      ]
     },
     "metadata": {},
     "output_type": "display_data"
    },
    {
     "data": {
      "application/vnd.jupyter.widget-view+json": {
       "model_id": "02b115793bc3433080e65ac418ec511f",
       "version_major": 2,
       "version_minor": 0
      },
      "text/plain": [
       "Creating json from Arrow format:   0%|          | 0/6 [00:00<?, ?ba/s]"
      ]
     },
     "metadata": {},
     "output_type": "display_data"
    },
    {
     "data": {
      "application/vnd.jupyter.widget-view+json": {
       "model_id": "6d6ad157ed3b4f9ca849affcb52f4fda",
       "version_major": 2,
       "version_minor": 0
      },
      "text/plain": [
       "Creating json from Arrow format:   0%|          | 0/6 [00:00<?, ?ba/s]"
      ]
     },
     "metadata": {},
     "output_type": "display_data"
    },
    {
     "data": {
      "application/vnd.jupyter.widget-view+json": {
       "model_id": "aa13d18819bb4fbeae12aa2f14951432",
       "version_major": 2,
       "version_minor": 0
      },
      "text/plain": [
       "Creating json from Arrow format:   0%|          | 0/589 [00:00<?, ?ba/s]"
      ]
     },
     "metadata": {},
     "output_type": "display_data"
    },
    {
     "data": {
      "application/vnd.jupyter.widget-view+json": {
       "model_id": "4b3bd02ca1be4a24bf7f46caa33fc01e",
       "version_major": 2,
       "version_minor": 0
      },
      "text/plain": [
       "Creating json from Arrow format:   0%|          | 0/76 [00:00<?, ?ba/s]"
      ]
     },
     "metadata": {},
     "output_type": "display_data"
    },
    {
     "data": {
      "application/vnd.jupyter.widget-view+json": {
       "model_id": "5011d81e3d47439bb1b71709e496edf0",
       "version_major": 2,
       "version_minor": 0
      },
      "text/plain": [
       "Creating json from Arrow format:   0%|          | 0/77 [00:00<?, ?ba/s]"
      ]
     },
     "metadata": {},
     "output_type": "display_data"
    },
    {
     "data": {
      "text/plain": [
       "59982168"
      ]
     },
     "execution_count": 57,
     "metadata": {},
     "output_type": "execute_result"
    }
   ],
   "source": [
    "# Save huggingface datasets to jsonl files\n",
    "instruction_ds[\"train\"].to_json(\"data/MultiWOZ_2.2_instruction/train.jsonl\", orient=\"records\", lines=True)\n",
    "instruction_ds[\"validation\"].to_json(\"data/MultiWOZ_2.2_instruction/val.jsonl\", orient=\"records\", lines=True)\n",
    "instruction_ds[\"test\"].to_json(\"data/MultiWOZ_2.2_instruction/test.jsonl\", orient=\"records\", lines=True)\n",
    "\n",
    "processed_ds[\"train\"].to_json(\"data/MultiWOZ_2.2_raw/train.jsonl\", orient=\"records\", lines=True)\n",
    "processed_ds[\"validation\"].to_json(\"data/MultiWOZ_2.2_raw/val.jsonl\", orient=\"records\", lines=True)\n",
    "processed_ds[\"test\"].to_json(\"data/MultiWOZ_2.2_raw/test.jsonl\", orient=\"records\", lines=True)"
   ]
  }
 ],
 "metadata": {
  "kernelspec": {
   "display_name": "ra2023",
   "language": "python",
   "name": "python3"
  },
  "language_info": {
   "codemirror_mode": {
    "name": "ipython",
    "version": 3
   },
   "file_extension": ".py",
   "mimetype": "text/x-python",
   "name": "python",
   "nbconvert_exporter": "python",
   "pygments_lexer": "ipython3",
   "version": "3.11.3"
  },
  "orig_nbformat": 4
 },
 "nbformat": 4,
 "nbformat_minor": 2
}
